{
  "cells": [
    {
      "cell_type": "markdown",
      "metadata": {
        "id": "9eipF3AIR1Wu"
      },
      "source": [
        "# LOTTO MAX Prediction"
      ]
    },
    {
      "cell_type": "code",
      "execution_count": null,
      "metadata": {
        "id": "j-bIXaUQR4D_"
      },
      "outputs": [],
      "source": [
        "import numpy as np\n",
        "from random import choice\n",
        "from scipy import stats"
      ]
    },
    {
      "cell_type": "code",
      "execution_count": null,
      "metadata": {
        "colab": {
          "base_uri": "https://localhost:8080/"
        },
        "id": "K8wpuL_8ST4X",
        "outputId": "fd67ed9d-8ca8-48f7-8ba9-65c228643777"
      },
      "outputs": [
        {
          "output_type": "stream",
          "name": "stdout",
          "text": [
            "21\n"
          ]
        }
      ],
      "source": [
        "print(choice([i for i in range(1,50) if i not in [2,5,7]]))"
      ]
    },
    {
      "cell_type": "code",
      "execution_count": null,
      "metadata": {
        "id": "pDX_qD3YTXFo"
      },
      "outputs": [],
      "source": [
        "num1 = choice([i for i in range(1,51)])\n",
        "num2 = choice([i for i in range(1,51) if i not in [num1]])\n",
        "num3 = choice([i for i in range(1,51) if i not in [num1, num2]])\n",
        "num4 = choice([i for i in range(1,51) if i not in [num1, num2, num3]])\n",
        "num5 = choice([i for i in range(1,51) if i not in [num1, num2, num3, num4]])\n",
        "num6 = choice([i for i in range(1,51) if i not in [num1, num2, num3, num4, num5]])\n",
        "num7 = choice([i for i in range(1,51) if i not in [num1, num2, num3, num4, num5, num6]])\n",
        "\n",
        "a = np.array([num1, num2, num3, num4, num5, num6, num7])\n",
        "b = np.array([num1+1, num2+1, num3+1, num4+1, num5+1, num6+1, num7+1])"
      ]
    },
    {
      "cell_type": "code",
      "execution_count": null,
      "metadata": {
        "colab": {
          "base_uri": "https://localhost:8080/"
        },
        "id": "BZvKNnU5Y20y",
        "outputId": "bc4f8e6b-2a52-49e5-e750-bdf8ea57ea0e"
      },
      "outputs": [
        {
          "output_type": "stream",
          "name": "stdout",
          "text": [
            "[[50  6  4 41 21 13 33]\n",
            " [51  7  5 42 22 14 34]\n",
            " [20  0  0  0  0  0  0]\n",
            " [ 0 18  0  0  0  0  0]]\n"
          ]
        }
      ],
      "source": [
        "c = np.stack([a, b, [20, 0, 0 ,0 ,0, 0, 0], [0, 18, 0 ,0 ,0, 0, 0]])\n",
        "print(c)"
      ]
    },
    {
      "cell_type": "code",
      "execution_count": null,
      "metadata": {
        "colab": {
          "base_uri": "https://localhost:8080/"
        },
        "id": "vwA3OIV8ZfPC",
        "outputId": "7a38e5f0-ac9b-4587-cb3e-ff603778cfff"
      },
      "outputs": [
        {
          "output_type": "execute_result",
          "data": {
            "text/plain": [
              "4"
            ]
          },
          "metadata": {},
          "execution_count": 6
        }
      ],
      "source": [
        "np.rint(4.4).astype(int)"
      ]
    },
    {
      "cell_type": "code",
      "execution_count": null,
      "metadata": {
        "colab": {
          "base_uri": "https://localhost:8080/"
        },
        "id": "j4rxlFJ5knZN",
        "outputId": "89e5567a-173d-4174-d0a8-75c046ad7d8b"
      },
      "outputs": [
        {
          "output_type": "stream",
          "name": "stdout",
          "text": [
            "[0 0 0 0 0 0 0]\n"
          ]
        }
      ],
      "source": [
        "print(stats.mode(c)[0][0])"
      ]
    },
    {
      "cell_type": "code",
      "execution_count": null,
      "metadata": {
        "colab": {
          "base_uri": "https://localhost:8080/"
        },
        "id": "WuYhTuP0Y-HJ",
        "outputId": "aee62ee6-0d91-42d1-d070-3952465d3a32"
      },
      "outputs": [
        {
          "output_type": "execute_result",
          "data": {
            "text/plain": [
              "array([35,  6,  2, 20, 10,  6, 16])"
            ]
          },
          "metadata": {},
          "execution_count": 8
        }
      ],
      "source": [
        "np.rint(np.median(c, axis=0)).astype(int)"
      ]
    },
    {
      "cell_type": "code",
      "execution_count": null,
      "metadata": {
        "id": "exIZf_T-S8d2"
      },
      "outputs": [],
      "source": [
        "def gen_lotto(iterations):\n",
        "  # initializing numpy shape array\n",
        "  temp = np.array([0, 0, 0, 0, 0, 0, 0])\n",
        "\n",
        "  # generating distinct numbers\n",
        "  for i in range(iterations+1):\n",
        "    num1 = choice([i for i in range(1,51)])\n",
        "    num2 = choice([i for i in range(1,51) if i not in [num1]])\n",
        "    num3 = choice([i for i in range(1,51) if i not in [num1, num2]])\n",
        "    num4 = choice([i for i in range(1,51) if i not in [num1, num2, num3]])\n",
        "    num5 = choice([i for i in range(1,51) if i not in [num1, num2, num3, num4]])\n",
        "    num6 = choice([i for i in range(1,51) if i not in [num1, num2, num3, num4, num5]])\n",
        "    num7 = choice([i for i in range(1,51) if i not in [num1, num2, num3, num4, num5, num6]])\n",
        "\n",
        "    gen = np.sort(np.array([num1, num2, num3, num4, num5, num6, num7]))\n",
        "    print(\"{}        PREDICTION #:{}\".format(gen, i))\n",
        "    temp = np.vstack([temp, gen])\n",
        "\n",
        "  # delete temp row of zeros\n",
        "  temp = np.delete(temp, (0), axis=0)\n",
        "\n",
        "  # return the mean\n",
        "  predmean = np.rint(np.mean(temp, axis=0)).astype(int)\n",
        "  predmed = np.rint(np.median(temp, axis=0)).astype(int)\n",
        "  predmode = stats.mode(temp)[0][0]\n",
        "  print(\"\\nFINAL PREDICTION 1: {}\".format(predmean))\n",
        "  print(\"\\nFINAL PREDICTION 2: {}\".format(predmed))\n",
        "  print(\"\\nFINAL PREDICTION 3: {}\".format(predmode))"
      ]
    },
    {
      "cell_type": "code",
      "execution_count": null,
      "metadata": {
        "id": "dweqv2lHaAoi"
      },
      "outputs": [],
      "source": [
        "d = np.array([0, 0 , 0])"
      ]
    },
    {
      "cell_type": "code",
      "execution_count": null,
      "metadata": {
        "id": "Cpa6DUR-aIWA"
      },
      "outputs": [],
      "source": [
        "d = np.stack([d, [1, 2 , 3]])"
      ]
    },
    {
      "cell_type": "code",
      "execution_count": null,
      "metadata": {
        "colab": {
          "base_uri": "https://localhost:8080/"
        },
        "id": "9a4uBQAKcsXk",
        "outputId": "dff2e0f5-f13b-40c3-ced4-660a3f81685d"
      },
      "outputs": [
        {
          "output_type": "execute_result",
          "data": {
            "text/plain": [
              "array([[0, 0, 0],\n",
              "       [1, 2, 3]])"
            ]
          },
          "metadata": {},
          "execution_count": 12
        }
      ],
      "source": [
        "d"
      ]
    },
    {
      "cell_type": "code",
      "execution_count": null,
      "metadata": {
        "id": "HO50lAL_cqX6"
      },
      "outputs": [],
      "source": [
        "d = np.vstack([d, [1, 2 , 3]])"
      ]
    },
    {
      "cell_type": "code",
      "execution_count": null,
      "metadata": {
        "colab": {
          "base_uri": "https://localhost:8080/"
        },
        "id": "vUm5qu4IaJ6d",
        "outputId": "dbf36576-8ddf-4768-dd12-b66881aa225b"
      },
      "outputs": [
        {
          "output_type": "execute_result",
          "data": {
            "text/plain": [
              "array([[1, 2, 3],\n",
              "       [1, 2, 3]])"
            ]
          },
          "metadata": {},
          "execution_count": 14
        }
      ],
      "source": [
        "np.delete(d, (0), axis=0)"
      ]
    },
    {
      "cell_type": "code",
      "execution_count": null,
      "metadata": {
        "id": "0ekZs9Ewf0X8",
        "colab": {
          "base_uri": "https://localhost:8080/"
        },
        "outputId": "7c3965ce-e618-4181-802d-40c0d1e85ab2"
      },
      "outputs": [
        {
          "output_type": "stream",
          "name": "stdout",
          "text": [
            "[ 1 10 11 18 31 38 44]        PREDICTION #:0\n",
            "[10 14 26 29 36 42 49]        PREDICTION #:1\n",
            "[ 5  6  7 15 37 41 47]        PREDICTION #:2\n",
            "[14 16 21 23 25 31 36]        PREDICTION #:3\n",
            "[ 4 14 22 34 35 36 44]        PREDICTION #:4\n",
            "[ 3  4 14 28 31 40 42]        PREDICTION #:5\n",
            "[ 3 16 26 28 44 45 48]        PREDICTION #:6\n",
            "[ 4 15 17 23 33 44 50]        PREDICTION #:7\n",
            "[11 18 19 25 35 38 42]        PREDICTION #:8\n",
            "[ 9 12 17 18 26 36 48]        PREDICTION #:9\n",
            "[20 25 27 29 37 46 48]        PREDICTION #:10\n",
            "[ 2  9 16 25 31 33 35]        PREDICTION #:11\n",
            "[ 3 11 14 29 32 34 41]        PREDICTION #:12\n",
            "[ 3  8 10 26 42 43 47]        PREDICTION #:13\n",
            "[ 1 19 23 33 43 45 47]        PREDICTION #:14\n",
            "[ 7 20 23 26 31 32 43]        PREDICTION #:15\n",
            "[ 1  8  9 11 23 35 40]        PREDICTION #:16\n",
            "[ 8 17 19 37 42 48 50]        PREDICTION #:17\n",
            "[ 1  6 10 23 27 43 44]        PREDICTION #:18\n",
            "[ 1  3  8 21 37 45 46]        PREDICTION #:19\n",
            "[13 24 30 32 36 38 45]        PREDICTION #:20\n",
            "[ 6  8 13 19 21 28 30]        PREDICTION #:21\n",
            "[12 29 30 34 36 48 50]        PREDICTION #:22\n",
            "[ 4 13 14 16 33 46 48]        PREDICTION #:23\n",
            "[12 19 22 30 31 35 40]        PREDICTION #:24\n",
            "[14 15 19 24 25 26 43]        PREDICTION #:25\n",
            "[21 29 33 35 41 46 50]        PREDICTION #:26\n",
            "[ 1  6  8 12 15 24 44]        PREDICTION #:27\n",
            "[ 8  9 18 27 29 39 49]        PREDICTION #:28\n",
            "[11 24 33 35 37 41 49]        PREDICTION #:29\n",
            "[ 3  8 11 13 21 26 39]        PREDICTION #:30\n",
            "[ 1  9 11 21 30 44 47]        PREDICTION #:31\n",
            "[ 1  5 18 26 35 38 50]        PREDICTION #:32\n",
            "[ 6 17 23 33 37 42 49]        PREDICTION #:33\n",
            "[ 5 19 38 39 40 43 47]        PREDICTION #:34\n",
            "[16 17 30 32 37 41 47]        PREDICTION #:35\n",
            "[ 4  5 11 13 17 44 48]        PREDICTION #:36\n",
            "[ 2  3  6 14 23 25 48]        PREDICTION #:37\n",
            "[ 4  9 13 32 41 46 50]        PREDICTION #:38\n",
            "[15 20 23 26 38 42 46]        PREDICTION #:39\n",
            "[ 1  9 14 23 28 39 50]        PREDICTION #:40\n",
            "[ 4  7 17 24 32 40 45]        PREDICTION #:41\n",
            "[ 6 13 16 29 30 34 45]        PREDICTION #:42\n",
            "[13 17 21 23 25 46 49]        PREDICTION #:43\n",
            "[ 5  8  9 13 16 24 44]        PREDICTION #:44\n",
            "[ 8  9 21 34 38 43 46]        PREDICTION #:45\n",
            "[ 4 25 36 40 42 43 49]        PREDICTION #:46\n",
            "[ 4  5 31 35 38 45 47]        PREDICTION #:47\n",
            "[ 7  9 13 20 23 32 36]        PREDICTION #:48\n",
            "[ 9 13 23 35 41 43 48]        PREDICTION #:49\n",
            "[ 2  4 13 26 36 45 48]        PREDICTION #:50\n",
            "[ 1 17 21 29 32 46 49]        PREDICTION #:51\n",
            "[ 8 10 27 30 32 35 43]        PREDICTION #:52\n",
            "[ 1  7 15 25 40 41 44]        PREDICTION #:53\n",
            "[ 4 11 18 29 32 39 45]        PREDICTION #:54\n",
            "[ 6 10 11 15 19 27 47]        PREDICTION #:55\n",
            "[ 8 10 17 19 26 34 36]        PREDICTION #:56\n",
            "[ 4 12 15 23 31 43 44]        PREDICTION #:57\n",
            "[11 12 20 31 33 39 44]        PREDICTION #:58\n",
            "[ 3  4 14 15 27 41 50]        PREDICTION #:59\n",
            "[ 5  6 10 16 38 39 44]        PREDICTION #:60\n",
            "[ 4  8 21 26 31 43 46]        PREDICTION #:61\n",
            "[ 1  2 13 25 36 39 43]        PREDICTION #:62\n",
            "[15 17 18 23 39 43 46]        PREDICTION #:63\n",
            "[11 20 27 37 40 42 49]        PREDICTION #:64\n",
            "[ 1  6 14 16 18 24 46]        PREDICTION #:65\n",
            "[ 1  9 12 20 30 31 48]        PREDICTION #:66\n",
            "[ 1  9 13 18 22 23 44]        PREDICTION #:67\n",
            "[12 14 19 22 23 24 26]        PREDICTION #:68\n",
            "[11 19 41 42 45 48 50]        PREDICTION #:69\n",
            "[ 5 11 12 14 19 24 28]        PREDICTION #:70\n",
            "[ 2  8 13 25 34 35 40]        PREDICTION #:71\n",
            "[ 3  6 31 33 34 35 41]        PREDICTION #:72\n",
            "[ 3 10 20 26 39 42 43]        PREDICTION #:73\n",
            "[ 4 16 18 21 30 37 50]        PREDICTION #:74\n",
            "[ 9 11 16 28 32 40 44]        PREDICTION #:75\n",
            "[ 5 13 28 30 33 37 38]        PREDICTION #:76\n",
            "[ 6  8 30 35 37 39 42]        PREDICTION #:77\n",
            "[11 25 29 37 38 42 50]        PREDICTION #:78\n",
            "[ 6 15 18 29 36 37 40]        PREDICTION #:79\n",
            "[ 2  5  9 17 19 31 45]        PREDICTION #:80\n",
            "[10 12 13 20 24 29 42]        PREDICTION #:81\n",
            "[21 22 26 30 35 36 37]        PREDICTION #:82\n",
            "[11 26 32 33 41 42 50]        PREDICTION #:83\n",
            "[ 2 15 20 26 34 45 48]        PREDICTION #:84\n",
            "[ 3  5 10 15 22 33 34]        PREDICTION #:85\n",
            "[ 5  7 13 17 18 38 39]        PREDICTION #:86\n",
            "[ 2  5  8 26 30 38 48]        PREDICTION #:87\n",
            "[ 3  8 27 28 42 44 48]        PREDICTION #:88\n",
            "[16 24 28 29 31 36 42]        PREDICTION #:89\n",
            "[11 16 18 20 25 30 41]        PREDICTION #:90\n",
            "[13 18 32 34 37 44 45]        PREDICTION #:91\n",
            "[ 3 22 23 25 42 45 50]        PREDICTION #:92\n",
            "[ 1 16 27 30 40 41 42]        PREDICTION #:93\n",
            "[ 1  3 28 32 38 42 48]        PREDICTION #:94\n",
            "[ 5 12 16 28 30 31 33]        PREDICTION #:95\n",
            "[ 4 10 28 30 32 47 50]        PREDICTION #:96\n",
            "[ 1 13 24 31 36 37 47]        PREDICTION #:97\n",
            "[ 9 11 12 23 25 30 44]        PREDICTION #:98\n",
            "[ 4  6 16 22 26 29 50]        PREDICTION #:99\n",
            "[ 9 15 20 21 25 38 42]        PREDICTION #:100\n",
            "\n",
            "FINAL PREDICTION 1: [ 6 12 19 26 32 38 45]\n",
            "\n",
            "FINAL PREDICTION 2: [ 5 11 18 26 32 39 46]\n",
            "\n",
            "FINAL PREDICTION 3: [ 1  8 13 26 31 43 50]\n"
          ]
        }
      ],
      "source": [
        "gen_lotto(100)"
      ]
    },
    {
      "cell_type": "code",
      "source": [],
      "metadata": {
        "id": "nYu7P3rhE5DA"
      },
      "execution_count": null,
      "outputs": []
    }
  ],
  "metadata": {
    "colab": {
      "provenance": [],
      "authorship_tag": "ABX9TyPb84oiWZ7FFuH3l7ks2/i+"
    },
    "kernelspec": {
      "display_name": "Python 3",
      "name": "python3"
    },
    "language_info": {
      "name": "python"
    }
  },
  "nbformat": 4,
  "nbformat_minor": 0
}